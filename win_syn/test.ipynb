{
 "cells": [
  {
   "cell_type": "code",
   "execution_count": 1,
   "metadata": {},
   "outputs": [
    {
     "name": "stdout",
     "output_type": "stream",
     "text": [
      "8 是2的次方數\n",
      "0.0\n"
     ]
    }
   ],
   "source": [
    "import math\n",
    "\n",
    "def power_of_two(n):\n",
    "    if isinstance(n, (int, float)):\n",
    "        return math.log2(abs(n)).is_integer()\n",
    "    else:\n",
    "        return False\n",
    "\n",
    "# 测试\n",
    "number = 8\n",
    "if power_of_two(number):\n",
    "    print(f\"{number} 是2的次方數\")\n",
    "else:\n",
    "    print(f\"{number} 不是2的次方數\")\n",
    "\n",
    "\n",
    "print(math.log2(1))  \n"
   ]
  },
  {
   "cell_type": "code",
   "execution_count": 2,
   "metadata": {},
   "outputs": [
    {
     "name": "stdout",
     "output_type": "stream",
     "text": [
      "-0.03125 是2的次方數\n"
     ]
    }
   ],
   "source": [
    "import math\n",
    "\n",
    "def power_of_two(n):\n",
    "    # 檢查是否是2的次方數，包括正負整數和小數\n",
    "    if isinstance(n, (int, float)):\n",
    "        if n > 0:\n",
    "            # 對於正數，檢查是否是2的次方數\n",
    "            return (n & (n - 1) == 0) if isinstance(n, int) else (math.frexp(n)[0] == 0.5)\n",
    "        elif n < 0:\n",
    "            # 對於負數，檢查其絕對值是否是2的次方數\n",
    "            abs_n = abs(n)\n",
    "            return (abs_n & (abs_n - 1) == 0) if isinstance(abs_n, int) else (math.frexp(abs_n)[0] == 0.5)\n",
    "        else:\n",
    "            # 對於零，也視為2的次方數\n",
    "            return True\n",
    "    else:\n",
    "        return False\n",
    "\n",
    "# 測試\n",
    "decimal_number = -0.03125\n",
    "if power_of_two(decimal_number):\n",
    "    print(f\"{decimal_number} 是2的次方數\")\n",
    "else:\n",
    "    print(f\"{decimal_number} 不是2的次方數\")\n"
   ]
  },
  {
   "cell_type": "code",
   "execution_count": 1,
   "metadata": {},
   "outputs": [
    {
     "name": "stdout",
     "output_type": "stream",
     "text": [
      "120\n"
     ]
    }
   ],
   "source": []
  },
  {
   "cell_type": "code",
   "execution_count": 5,
   "metadata": {},
   "outputs": [
    {
     "name": "stdout",
     "output_type": "stream",
     "text": [
      "AT = \n",
      "⎡1  1  1   1    1      1         1       1    0⎤\n",
      "⎢                                              ⎥\n",
      "⎢0  1  -1  2   -2     0.5       -0.5     4    0⎥\n",
      "⎢                                              ⎥\n",
      "⎢0  1  1   4    4     0.25      0.25     16   0⎥\n",
      "⎢                                              ⎥\n",
      "⎢0  1  -1  8   -8    0.125     -0.125    64   0⎥\n",
      "⎢                                              ⎥\n",
      "⎢0  1  1   16  16    0.0625    0.0625   256   0⎥\n",
      "⎢                                              ⎥\n",
      "⎢0  1  -1  32  -32  0.03125   -0.03125  1024  0⎥\n",
      "⎢                                              ⎥\n",
      "⎣0  1  1   64  64   0.015625  0.015625  4096  1⎦\n",
      "\n",
      "G = \n",
      "⎡        0.25                   0                     0          ⎤\n",
      "⎢                                                                ⎥\n",
      "⎢ 0.0740740740740741    0.0740740740740741    0.0740740740740741 ⎥\n",
      "⎢                                                                ⎥\n",
      "⎢ 0.0444444444444444   -0.0444444444444444    0.0444444444444444 ⎥\n",
      "⎢                                                                ⎥\n",
      "⎢-0.00555555555555556  -0.0111111111111111   -0.0222222222222222 ⎥\n",
      "⎢                                                                ⎥\n",
      "⎢-0.00185185185185185   0.0037037037037037   -0.00740740740740741⎥\n",
      "⎢                                                                ⎥\n",
      "⎢ -0.203174603174603    -0.101587301587302   -0.0507936507936508 ⎥\n",
      "⎢                                                                ⎥\n",
      "⎢ -0.158024691358025    0.0790123456790123   -0.0395061728395062 ⎥\n",
      "⎢                                                                ⎥\n",
      "⎢8.81834215167549e-5   0.000352733686067019  0.00141093474426808 ⎥\n",
      "⎢                                                                ⎥\n",
      "⎣         0                     0                     1          ⎦\n",
      "\n",
      "BT = \n",
      "⎡4.0  -1.0  -21.0  5.25   21.0   -5.25  -4.0   1.0   0⎤\n",
      "⎢                                                     ⎥\n",
      "⎢ 0   -4.0  -3.0   18.0   12.75  -8.25  -3.0   1.0   0⎥\n",
      "⎢                                                     ⎥\n",
      "⎢ 0   4.0   -5.0   -16.0  21.25  -0.25  -5.0   1.0   0⎥\n",
      "⎢                                                     ⎥\n",
      "⎢ 0   -2.0  -0.5   10.25   2.5   -9.25  -2.0   1.0   0⎥\n",
      "⎢                                                     ⎥\n",
      "⎢ 0   2.0   -1.5   -9.75   7.5   6.75   -6.0   1.0   0⎥\n",
      "⎢                                                     ⎥\n",
      "⎢ 0   -8.0  -14.0  14.0   17.5   -7.0   -3.5   1.0   0⎥\n",
      "⎢                                                     ⎥\n",
      "⎢ 0   8.0   -18.0  -6.0   22.5   -3.0   -4.5   1.0   0⎥\n",
      "⎢                                                     ⎥\n",
      "⎢ 0   -1.0    0    5.25     0    -5.25    0    1.0   0⎥\n",
      "⎢                                                     ⎥\n",
      "⎣ 0   4.0   -1.0   -21.0  5.25   21.0   -5.25  -4.0  1⎦\n",
      "\n"
     ]
    }
   ],
   "source": [
    "import wincnn as wc\n",
    "import numpy as np\n",
    "fractionsIn = 3\n",
    "\n",
    "\n",
    "#wc.showCookToomFilter((0,1,-1),2,3)\n",
    "#wc.showCookToomFilter((0,1,-1,2,-2),2,4)\n",
    "#wc.showCookToomFilter((0,1,-1,2,-2),3,3)\n",
    "#wc.showCookToomFilter((0,1,-1,2,-2,1/2,-1/2),2,4)\n",
    "#wc.showCookToomFilter((0,1,-1,2,-2,1/2,-1/2),3,3)\n",
    "#wc.showCookToomFilter((0,1,-1,2,-2,1/2,-1/2,4,-4),4,5)\n",
    "\n",
    "wc.showCookToomFilter((0,1,-1,2,-2,1/2,-1/2,4,-4,1/4,-1/4),7,3)"
   ]
  }
 ],
 "metadata": {
  "kernelspec": {
   "display_name": "Python 3",
   "language": "python",
   "name": "python3"
  },
  "language_info": {
   "codemirror_mode": {
    "name": "ipython",
    "version": 3
   },
   "file_extension": ".py",
   "mimetype": "text/x-python",
   "name": "python",
   "nbconvert_exporter": "python",
   "pygments_lexer": "ipython3",
   "version": "3.11.2"
  }
 },
 "nbformat": 4,
 "nbformat_minor": 2
}
