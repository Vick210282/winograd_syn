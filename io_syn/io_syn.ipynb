{
 "cells": [
  {
   "cell_type": "code",
   "execution_count": null,
   "metadata": {},
   "outputs": [],
   "source": [
    "for n in range(4, 10, 1):\n",
    "    for r in range(3, 6, 1):\n",
    "        m = n - r + 1\n",
    "        if (m<2):\n",
    "            break\n",
    "        path = '../win_verilog//wc_%d_%d/' % (m, r)\n",
    "        file = 'tb_%d_%d.v' % (m, r)\n",
    "        outf = open(path + file, 'w')"
   ]
  }
 ],
 "metadata": {
  "language_info": {
   "name": "python"
  }
 },
 "nbformat": 4,
 "nbformat_minor": 2
}
