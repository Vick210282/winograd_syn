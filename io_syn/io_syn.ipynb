{
 "cells": [
  {
   "cell_type": "code",
   "execution_count": 3,
   "metadata": {},
   "outputs": [],
   "source": [
    "L = 10\n",
    "for n in range(4, 10, 1):\n",
    "    for r in range(3, 6, 1):\n",
    "        m = n - r + 1\n",
    "        if (m<2):\n",
    "            break\n",
    "        path = '../win_verilog//wc_%d_%d/' % (m, r)\n",
    "        file = 'CHIP.v'\n",
    "        outf = open(path + file, 'w')\n",
    "\n",
    "        outf.write('//CHIP io for winograd\\n')\n",
    "        outf.write('module CHIP (clk, rst, D, Z);\\n\\n')\n",
    "        outf.write('\\tinput clk, rst;\\n')\n",
    "        outf.write('\\tinput [%d-1:0] D;\\n' % (L))\n",
    "        outf.write('\\toutput [%d-1:0] Z;\\n\\n' % (L))\n",
    "        outf.write('\\twire i_clk, i_rst;\\n')\n",
    "        outf.write('\\twire [%d-1:0] i_D;\\n' % (L))\n",
    "        outf.write('\\twire [%d-1:0] i_Z;\\n' % (L))\n",
    "        outf.write('\\twire n_Logic0_, n_Logic1_;\\n\\n')\n",
    "        outf.write('\\tWC_%d_%d top (.rst(i_rst), .clk(i_clk), .D(i_D), .Z(i_Z));\\n\\n' % (m, r))\n",
    "\n",
    "        outf.write('\\tXMD ipad_CLK    ( .I(clk), .PU(n_Logic0_), .PD(n_Logic0_), .SMT(n_Logic0_), .O(i_clk) );\\n')\n",
    "        outf.write('\\tXMD ipad_RESET_ ( .I(rst), .PU(n_Logic0_), .PD(n_Logic0_), .SMT(n_Logic0_), .O(i_rst) );\\n\\n')\n",
    "\n",
    "        for i in range(L):\n",
    "            outf.write('\\tXMD ipad_D%d ( .I(D[%d]), .PU(n_Logic0_), .PD(n_Logic0_), .SMT(n_Logic0_), .O(i_D[%d]) );\\n' % (i, i, i))\n",
    "        outf.write('\\n')\n",
    "\n",
    "        for i in range(L):\n",
    "            outf.write('\\tYA2GSD opad_Z%d ( .I(i_Z[%d]), .E(n_Logic1_), .E2(n_Logic1_), .E4(n_Logic1_), .E8(n_Logic1_), .SR(n_Logic1_), .O(Z[%d]));\\n' % (i, i, i))\n",
    "        outf.write('\\n')\n",
    "\n",
    "        outf.write('\\tTIE0 U1 ( .O(n_Logic0_) );\\n')\n",
    "        outf.write('\\tTIE1 U2 ( .O(n_Logic1_) );\\n\\n')\n",
    "        outf.write('endmodule\\n')\n",
    "        outf.close()\n"
   ]
  }
 ],
 "metadata": {
  "kernelspec": {
   "display_name": "Python 3",
   "language": "python",
   "name": "python3"
  },
  "language_info": {
   "codemirror_mode": {
    "name": "ipython",
    "version": 3
   },
   "file_extension": ".py",
   "mimetype": "text/x-python",
   "name": "python",
   "nbconvert_exporter": "python",
   "pygments_lexer": "ipython3",
   "version": "3.11.2"
  }
 },
 "nbformat": 4,
 "nbformat_minor": 2
}
